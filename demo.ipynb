{
 "cells": [
  {
   "cell_type": "markdown",
   "id": "e9bec120",
   "metadata": {},
   "source": [
    "# 手写数学算式识别与求解系统演示\n",
    "\n",
    "这个笔记本展示了如何使用手写数学算式识别与求解系统。"
   ]
  },
  {
   "cell_type": "code",
   "execution_count": null,
   "id": "1f868a22",
   "metadata": {},
   "outputs": [],
   "source": [
    "# 导入必要的库\n",
    "import sys\n",
    "import os\n",
    "import matplotlib.pyplot as plt\n",
    "from calculator.equation_recognizer import HandwrittenEquationCalculator\n",
    "from calculator.equation_solver import solve_equation, format_result"
   ]
  },
  {
   "cell_type": "markdown",
   "id": "bc50936e",
   "metadata": {},
   "source": [
    "## 1. 加载模型和配置"
   ]
  },
  {
   "cell_type": "code",
   "execution_count": null,
   "id": "97fa5bca",
   "metadata": {},
   "outputs": [],
   "source": [
    "# 加载模型\n",
    "model_path = \"calculator/model\"\n",
    "\n",
    "try:\n",
    "    calculator = HandwrittenEquationCalculator(model_path)\n",
    "    print(\"模型加载成功!\")\n",
    "except Exception as e:\n",
    "    print(f\"模型加载失败: {e}\")\n",
    "    print(\"请先使用 train/model_trainer.py 训练模型\")"
   ]
  },
  {
   "cell_type": "markdown",
   "id": "a180374b",
   "metadata": {},
   "source": [
    "## 2. 测试手写算式识别"
   ]
  },
  {
   "cell_type": "code",
   "execution_count": null,
   "id": "8553066c",
   "metadata": {},
   "outputs": [],
   "source": [
    "def process_image(image_path):\n",
    "    \"\"\"处理图像并求解算式\"\"\"\n",
    "    # 显示原始图像\n",
    "    img = plt.imread(image_path)\n",
    "    plt.figure(figsize=(8, 3))\n",
    "    plt.imshow(img, cmap='gray')\n",
    "    plt.title(\"输入图像\")\n",
    "    plt.axis('off')\n",
    "    plt.show()\n",
    "    \n",
    "    # 识别算式\n",
    "    equation = calculator.recognize_equation(image_path)\n",
    "    print(f\"识别的算式: {equation}\")\n",
    "    \n",
    "    # 求解\n",
    "    result = solve_equation(equation)\n",
    "    formatted_result = format_result(result)\n",
    "    print(f\"计算结果: {formatted_result}\")\n",
    "    \n",
    "    return equation, formatted_result"
   ]
  },
  {
   "cell_type": "code",
   "execution_count": null,
   "id": "3118478a",
   "metadata": {},
   "outputs": [],
   "source": [
    "# 测试样例\n",
    "# 请替换为你自己的测试图片路径\n",
    "test_image_path = \"../equation_images/test7.png\"\n",
    "\n",
    "if os.path.exists(test_image_path):\n",
    "    equation, result = process_image(test_image_path)\n",
    "else:\n",
    "    print(f\"文件不存在: {test_image_path}\")"
   ]
  },
  {
   "cell_type": "markdown",
   "id": "1fcec5b6",
   "metadata": {},
   "source": [
    "## 3. 测试更多案例\n",
    "\n",
    "如果有更多测试图像，可以在下面循环测试"
   ]
  },
  {
   "cell_type": "code",
   "execution_count": null,
   "id": "57ff7178",
   "metadata": {},
   "outputs": [],
   "source": [
    "# 测试多个图像\n",
    "test_images = [\n",
    "    \"../equation_images/test7.png\",\n",
    "    \"../equation_images/test9.png\",\n",
    "    # 添加更多测试图像\n",
    "]\n",
    "\n",
    "for img_path in test_images:\n",
    "    if os.path.exists(img_path):\n",
    "        print(f\"\\n处理图像: {os.path.basename(img_path)}\")\n",
    "        equation, result = process_image(img_path)\n",
    "    else:\n",
    "        print(f\"文件不存在: {img_path}\")"
   ]
  }
 ],
 "metadata": {
  "language_info": {
   "name": "python"
  }
 },
 "nbformat": 4,
 "nbformat_minor": 5
}
